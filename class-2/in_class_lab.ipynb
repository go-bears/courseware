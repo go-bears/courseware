{
 "cells": [
  {
   "cell_type": "markdown",
   "metadata": {},
   "source": [
    "# test run list or array\n",
    "\n",
    "create a list or random integers"
   ]
  },
  {
   "cell_type": "code",
   "execution_count": null,
   "metadata": {},
   "outputs": [],
   "source": [
    "import random\n",
    "start = 0\n",
    "stop = 3000\n",
    "end = 10\n",
    "arr = [random.randint(start,stop) for p in range(0, end)]"
   ]
  },
  {
   "cell_type": "markdown",
   "metadata": {},
   "source": [
    "# 1 Now implement function sort that array from smallest to largest"
   ]
  },
  {
   "cell_type": "markdown",
   "metadata": {},
   "source": [
    "How does it look?"
   ]
  },
  {
   "cell_type": "markdown",
   "metadata": {},
   "source": [
    "# 2 Reverse sorting order"
   ]
  },
  {
   "cell_type": "markdown",
   "metadata": {},
   "source": [
    "How does it look?"
   ]
  },
  {
   "cell_type": "markdown",
   "metadata": {},
   "source": [
    "# 3 Now create a function even_odd(list_of_integers) \n",
    "\n",
    "that sorts list byt first placing all even in the front and all odd in the back of thte list"
   ]
  },
  {
   "cell_type": "markdown",
   "metadata": {},
   "source": [
    "# 4 Now sort it smallest to biggest"
   ]
  },
  {
   "cell_type": "markdown",
   "metadata": {},
   "source": [
    "# 5 Queue\n",
    "\n",
    "    Create a queue and add first six prime numbers followed by word \"Nice\"\n",
    "    Now remove and print each element\n"
   ]
  },
  {
   "cell_type": "markdown",
   "metadata": {},
   "source": [
    "# 6 complexity"
   ]
  },
  {
   "cell_type": "markdown",
   "metadata": {},
   "source": [
    "write a function min_max(integer_list, min, max) and return new min, max return min, max"
   ]
  },
  {
   "cell_type": "markdown",
   "metadata": {},
   "source": [
    "## in class scrool\n",
    "x\n",
    "\n",
    "x\n",
    "\n",
    "x\n",
    "\n",
    "x\n",
    "\n",
    "x\n",
    "\n",
    "x\n",
    "\n",
    "x\n",
    "\n",
    "x\n",
    "\n",
    "x\n",
    "\n",
    "x\n",
    "\n",
    "x\n",
    "\n",
    "x\n",
    "\n",
    "x\n",
    "\n",
    "x\n",
    "\n",
    "x\n",
    "\n",
    "x\n",
    "\n",
    "x\n",
    "\n",
    "x\n",
    "\n",
    "x\n",
    "\n",
    "x\n",
    "\n",
    "x\n",
    "\n",
    "x\n",
    "\n",
    "x\n",
    "\n",
    "x\n"
   ]
  },
  {
   "cell_type": "code",
   "execution_count": null,
   "metadata": {},
   "outputs": [],
   "source": [
    "import random\n",
    "\n",
    "max = 100\n",
    "min = -100\n",
    "\n",
    "def min_max_one(integer_list, min, max):\n",
    "    for x in integer_list:\n",
    "        if x < min: min = x\n",
    "        if x > max: max = x\n",
    "    return min, max\n",
    "\n",
    "def min_max_two(integer_list, min, max):\n",
    "    for x in integer_list:\n",
    "        if x < min: min = x\n",
    "    for x in integer_list:\n",
    "        if x > max: max = x\n",
    "    return min, max\n",
    "\n",
    "# which one is faster?"
   ]
  },
  {
   "cell_type": "code",
   "execution_count": null,
   "metadata": {},
   "outputs": [],
   "source": [
    "rand_list = [random.randint(min*10, max*10) for x in range(0,10)]\n",
    "print(rand_list)\n",
    "min, max = min_max_one(rand_list, min, max)\n",
    "print('Min: ' + str(min) + ' Max : ' + str(max))\n",
    "rand_list = [random.randint(min*10, max*10) for x in range(0,10)]\n",
    "min, max = min_max_two(rand_list, min, max)\n",
    "print('Min: ' + str(min) + ' Max : ' + str(max))"
   ]
  },
  {
   "cell_type": "code",
   "execution_count": null,
   "metadata": {},
   "outputs": [],
   "source": []
  }
 ],
 "metadata": {
  "kernelspec": {
   "display_name": "Python 3",
   "language": "python",
   "name": "python3"
  },
  "language_info": {
   "codemirror_mode": {
    "name": "ipython",
    "version": 3
   },
   "file_extension": ".py",
   "mimetype": "text/x-python",
   "name": "python",
   "nbconvert_exporter": "python",
   "pygments_lexer": "ipython3",
   "version": "3.6.4"
  }
 },
 "nbformat": 4,
 "nbformat_minor": 2
}
