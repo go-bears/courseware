{
 "cells": [
  {
   "cell_type": "markdown",
   "metadata": {},
   "source": [
    "# Data structures"
   ]
  },
  {
   "cell_type": "markdown",
   "metadata": {},
   "source": [
    "## In python array is not [ ]\n",
    "\n",
    "Array – like list but constrained\n",
    "\n",
    "you need to define a type\n"
   ]
  },
  {
   "cell_type": "code",
   "execution_count": 1,
   "metadata": {},
   "outputs": [
    {
     "data": {
      "text/plain": [
       "array.array"
      ]
     },
     "execution_count": 1,
     "metadata": {},
     "output_type": "execute_result"
    }
   ],
   "source": [
    "import array as arr\n",
    "a = arr.array(\"I\",[3,6,9])\n",
    "type(a)"
   ]
  },
  {
   "cell_type": "code",
   "execution_count": 2,
   "metadata": {},
   "outputs": [
    {
     "name": "stdout",
     "output_type": "stream",
     "text": [
      "array('I', [3, 6, 9])\n"
     ]
    }
   ],
   "source": [
    "print(a)"
   ]
  },
  {
   "cell_type": "code",
   "execution_count": 3,
   "metadata": {},
   "outputs": [
    {
     "name": "stdout",
     "output_type": "stream",
     "text": [
      "array('I', [3, 6, 9, 10])\n"
     ]
    }
   ],
   "source": [
    "a.append(10)\n",
    "print(a)"
   ]
  },
  {
   "cell_type": "code",
   "execution_count": 4,
   "metadata": {},
   "outputs": [
    {
     "ename": "TypeError",
     "evalue": "an integer is required (got type str)",
     "output_type": "error",
     "traceback": [
      "\u001b[0;31m---------------------------------------------------------------------------\u001b[0m",
      "\u001b[0;31mTypeError\u001b[0m                                 Traceback (most recent call last)",
      "\u001b[0;32m<ipython-input-4-16809eb8caa5>\u001b[0m in \u001b[0;36m<module>\u001b[0;34m()\u001b[0m\n\u001b[0;32m----> 1\u001b[0;31m \u001b[0ma\u001b[0m\u001b[0;34m.\u001b[0m\u001b[0mappend\u001b[0m\u001b[0;34m(\u001b[0m\u001b[0;34m's'\u001b[0m\u001b[0;34m)\u001b[0m\u001b[0;34m\u001b[0m\u001b[0m\n\u001b[0m",
      "\u001b[0;31mTypeError\u001b[0m: an integer is required (got type str)"
     ]
    }
   ],
   "source": [
    "a.append('s')"
   ]
  },
  {
   "cell_type": "code",
   "execution_count": null,
   "metadata": {},
   "outputs": [],
   "source": [
    "import random\n",
    "start = 0\n",
    "stop = 3000\n",
    "end = 10\n",
    "arr = [random.randint(start,stop) for p in range(0, end)]\n",
    "print(arr)"
   ]
  },
  {
   "cell_type": "code",
   "execution_count": null,
   "metadata": {},
   "outputs": [],
   "source": [
    "arr.append('s')"
   ]
  },
  {
   "cell_type": "code",
   "execution_count": null,
   "metadata": {},
   "outputs": [],
   "source": [
    "print(arr)"
   ]
  },
  {
   "cell_type": "markdown",
   "metadata": {},
   "source": [
    "# in class lab 1\n",
    "\n",
    "x\n",
    " \n",
    "x\n",
    "\n",
    "x\n",
    "\n",
    "x\n",
    " \n",
    "x\n",
    "\n",
    "x\n",
    "\n",
    "x\n",
    " \n",
    "x\n",
    "\n",
    "x\n",
    "\n",
    "x\n",
    " \n",
    "x\n",
    "\n",
    "x\n",
    "\n",
    "x\n",
    " \n",
    "x\n",
    "\n",
    "x\n",
    "\n",
    "x\n",
    " \n",
    "x\n",
    "\n",
    "x\n",
    "\n",
    "x\n",
    " \n",
    "x\n",
    "\n",
    "x\n",
    "\n",
    "x\n",
    " \n",
    "x\n",
    "\n",
    "x\n",
    "\n"
   ]
  },
  {
   "cell_type": "code",
   "execution_count": null,
   "metadata": {},
   "outputs": [],
   "source": [
    "arr.sort()\n",
    "print(arr)\n",
    "dir(arr)"
   ]
  },
  {
   "cell_type": "code",
   "execution_count": null,
   "metadata": {},
   "outputs": [],
   "source": [
    "from queue import Queue\n",
    "q = Queue()\n",
    "dir(q)"
   ]
  },
  {
   "cell_type": "markdown",
   "metadata": {},
   "source": [
    "# in class lab 2\n",
    "\n",
    "x\n",
    " \n",
    "x\n",
    "\n",
    "x\n",
    "\n",
    "x\n",
    " \n",
    "x\n",
    "\n",
    "x\n",
    "\n",
    "x\n",
    " \n",
    "x\n",
    "\n",
    "x\n",
    "\n",
    "x\n",
    " \n",
    "x\n",
    "\n",
    "x\n",
    "\n",
    "x\n",
    " \n",
    "x\n",
    "\n",
    "x\n",
    "\n",
    "x\n",
    " \n",
    "x\n",
    "\n",
    "x\n",
    "\n",
    "x\n",
    " \n",
    "x\n",
    "\n",
    "x\n",
    "\n",
    "x\n",
    " \n",
    "x\n",
    "\n",
    "x\n",
    "\n"
   ]
  },
  {
   "cell_type": "code",
   "execution_count": 5,
   "metadata": {},
   "outputs": [],
   "source": [
    "import random\n",
    "start = 0\n",
    "stop = 3000\n",
    "end = 10\n",
    "arr = [random.randint(start,stop) for p in range(0, end)]\n",
    "def even_odd(A):\n",
    "    odd = []\n",
    "    even = []   \n",
    "    for x in A:\n",
    "        if x % 2 == 0: \n",
    "           even.append(x)\n",
    "        else:\n",
    "            odd.append(x)\n",
    "    return even + odd"
   ]
  },
  {
   "cell_type": "code",
   "execution_count": 6,
   "metadata": {},
   "outputs": [
    {
     "name": "stdout",
     "output_type": "stream",
     "text": [
      "[1989, 1985, 2996, 1266, 2276, 1955, 1974, 2138, 577, 890]\n",
      "[2996, 1266, 2276, 1974, 2138, 890, 1989, 1985, 1955, 577]\n"
     ]
    }
   ],
   "source": [
    "print(arr)\n",
    "print(even_odd(arr))"
   ]
  },
  {
   "cell_type": "code",
   "execution_count": 7,
   "metadata": {},
   "outputs": [
    {
     "name": "stdout",
     "output_type": "stream",
     "text": [
      "[2308, 106, 375, 166, 577, 1880, 472, 2815, 1036, 1941]\n",
      "[106, 166, 472, 1036, 1880, 2308, 375, 577, 1941, 2815]\n"
     ]
    }
   ],
   "source": [
    "import random\n",
    "start = 0\n",
    "stop = 3000\n",
    "end = 10\n",
    "arr = [random.randint(start,stop) for p in range(0, end)]\n",
    "\n",
    "def even_odd(A):\n",
    "    odd = []\n",
    "    even = []   \n",
    "    for x in A:\n",
    "        if x % 2 == 0: \n",
    "           even.append(x)\n",
    "        else:\n",
    "            odd.append(x)\n",
    "    even.sort()\n",
    "    odd.sort()\n",
    "    return even + odd\n",
    "\n",
    "print(arr)\n",
    "print(even_odd(arr))"
   ]
  },
  {
   "attachments": {},
   "cell_type": "markdown",
   "metadata": {},
   "source": [
    "# stack Last-In-First-Out (LIFO)"
   ]
  },
  {
   "cell_type": "code",
   "execution_count": 8,
   "metadata": {},
   "outputs": [
    {
     "name": "stdout",
     "output_type": "stream",
     "text": [
      "[1, 2, 3, 4, 5, 6, 7, 8]\n"
     ]
    }
   ],
   "source": [
    "stack = [1, 2, 3, 4, 5, 6, 7]\n",
    "stack.append(8)\n",
    "print(stack)"
   ]
  },
  {
   "cell_type": "code",
   "execution_count": 9,
   "metadata": {},
   "outputs": [
    {
     "name": "stdout",
     "output_type": "stream",
     "text": [
      "8\n"
     ]
    }
   ],
   "source": [
    "print(stack.pop())"
   ]
  },
  {
   "cell_type": "code",
   "execution_count": 10,
   "metadata": {},
   "outputs": [
    {
     "name": "stdout",
     "output_type": "stream",
     "text": [
      "[1, 2, 3, 4, 5, 6, 7]\n"
     ]
    }
   ],
   "source": [
    "print(stack)"
   ]
  },
  {
   "cell_type": "code",
   "execution_count": 11,
   "metadata": {},
   "outputs": [
    {
     "name": "stdout",
     "output_type": "stream",
     "text": [
      "7\n",
      "6\n"
     ]
    }
   ],
   "source": [
    "print(stack.pop())\n",
    "print(stack.pop())"
   ]
  },
  {
   "cell_type": "code",
   "execution_count": null,
   "metadata": {},
   "outputs": [],
   "source": [
    "print(stack)"
   ]
  },
  {
   "cell_type": "markdown",
   "metadata": {},
   "source": [
    "# Queues - First-In-First-Out (FIFO)\n",
    "\n",
    "think like a real line in DMV"
   ]
  },
  {
   "cell_type": "markdown",
   "metadata": {},
   "source": [
    "in class lab 2¶\n",
    "\n",
    "x\n",
    "\n",
    "x\n",
    "\n",
    "x\n",
    "\n",
    "x\n",
    "\n",
    "x\n",
    "\n",
    "x\n",
    "\n",
    "x\n",
    "\n",
    "x\n",
    "\n",
    "x\n",
    "\n",
    "x\n",
    "\n",
    "x\n",
    "\n",
    "x\n",
    "\n",
    "x\n",
    "\n",
    "x\n",
    "\n",
    "x\n",
    "\n",
    "x\n",
    "\n",
    "x\n",
    "\n",
    "x\n",
    "\n",
    "x\n",
    "\n",
    "x\n",
    "\n",
    "x\n",
    "\n",
    "x\n",
    "\n",
    "x\n",
    "\n",
    "x\n"
   ]
  },
  {
   "cell_type": "code",
   "execution_count": 13,
   "metadata": {},
   "outputs": [],
   "source": [
    "import queue\n",
    "\n",
    "stack = [2,3,7,11,13, 'Nice']\n",
    "assigment_queue = queue.Queue()\n",
    "\n",
    "assigment_queue.put(2)\n",
    "assigment_queue.put(3)\n",
    "assigment_queue.put(7)\n",
    "assigment_queue.put(11)\n",
    "assigment_queue.put(13)\n",
    "assigment_queue.put('Nice')"
   ]
  },
  {
   "cell_type": "code",
   "execution_count": 15,
   "metadata": {},
   "outputs": [
    {
     "name": "stdout",
     "output_type": "stream",
     "text": [
      "Q3\n",
      "SNice\n",
      "Q7\n",
      "S13\n",
      "Q11\n",
      "S11\n",
      "Q13\n",
      "S7\n",
      "QNice\n",
      "S3\n"
     ]
    }
   ],
   "source": [
    "while not assigment_queue.empty():\n",
    "    print ('Q ' + str(assigment_queue.get()))\n",
    "    print ('S ' + str(stack.pop()))"
   ]
  },
  {
   "cell_type": "code",
   "execution_count": null,
   "metadata": {},
   "outputs": [],
   "source": []
  }
 ],
 "metadata": {
  "kernelspec": {
   "display_name": "Python 3",
   "language": "python",
   "name": "python3"
  },
  "language_info": {
   "codemirror_mode": {
    "name": "ipython",
    "version": 3
   },
   "file_extension": ".py",
   "mimetype": "text/x-python",
   "name": "python",
   "nbconvert_exporter": "python",
   "pygments_lexer": "ipython3",
   "version": "3.6.4"
  }
 },
 "nbformat": 4,
 "nbformat_minor": 2
}
