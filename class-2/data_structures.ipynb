{
 "cells": [
  {
   "cell_type": "markdown",
   "metadata": {},
   "source": [
    "# do in class Array"
   ]
  },
  {
   "cell_type": "markdown",
   "metadata": {},
   "source": [
    "Your input is an array of integers, and you have to reorder its entries so that the even entries appear first.\n",
    "\n"
   ]
  },
  {
   "cell_type": "markdown",
   "metadata": {},
   "source": [
    "## In python array is not [ ]\n",
    "\n",
    "Array – like list but constrained\n",
    "\n",
    "you need to define a type\n"
   ]
  },
  {
   "cell_type": "code",
   "execution_count": null,
   "metadata": {},
   "outputs": [],
   "source": [
    "import array as arr\n",
    "a = arr.array(\"I\",[3,6,9])\n",
    "type(a)"
   ]
  },
  {
   "cell_type": "code",
   "execution_count": null,
   "metadata": {},
   "outputs": [],
   "source": [
    "print(a)"
   ]
  },
  {
   "cell_type": "code",
   "execution_count": null,
   "metadata": {},
   "outputs": [],
   "source": [
    "a.append(10)\n",
    "print(a)"
   ]
  },
  {
   "cell_type": "code",
   "execution_count": null,
   "metadata": {},
   "outputs": [],
   "source": [
    "a.append('s')"
   ]
  },
  {
   "cell_type": "code",
   "execution_count": null,
   "metadata": {},
   "outputs": [],
   "source": [
    "import random\n",
    "start = 0\n",
    "stop = 3000\n",
    "end = 10\n",
    "arr = [random.randint(start,stop) for p in range(0, end)]\n",
    "print(arr)"
   ]
  },
  {
   "cell_type": "code",
   "execution_count": null,
   "metadata": {},
   "outputs": [],
   "source": [
    "arr.append('s')"
   ]
  },
  {
   "cell_type": "code",
   "execution_count": null,
   "metadata": {},
   "outputs": [],
   "source": [
    "print(arr)"
   ]
  },
  {
   "cell_type": "markdown",
   "metadata": {},
   "source": [
    "# in class lab 1\n",
    "\n",
    "x\n",
    " \n",
    "x\n",
    "\n",
    "x\n",
    "\n",
    "x\n",
    " \n",
    "x\n",
    "\n",
    "x\n",
    "\n",
    "x\n",
    " \n",
    "x\n",
    "\n",
    "x\n",
    "\n",
    "x\n",
    " \n",
    "x\n",
    "\n",
    "x\n",
    "\n",
    "x\n",
    " \n",
    "x\n",
    "\n",
    "x\n",
    "\n",
    "x\n",
    " \n",
    "x\n",
    "\n",
    "x\n",
    "\n",
    "x\n",
    " \n",
    "x\n",
    "\n",
    "x\n",
    "\n",
    "x\n",
    " \n",
    "x\n",
    "\n",
    "x\n",
    "\n"
   ]
  },
  {
   "cell_type": "code",
   "execution_count": null,
   "metadata": {},
   "outputs": [],
   "source": [
    "arr.sort()\n",
    "print(arr)"
   ]
  },
  {
   "cell_type": "markdown",
   "metadata": {},
   "source": [
    "# in class lab 2\n",
    "\n",
    "x\n",
    " \n",
    "x\n",
    "\n",
    "x\n",
    "\n",
    "x\n",
    " \n",
    "x\n",
    "\n",
    "x\n",
    "\n",
    "x\n",
    " \n",
    "x\n",
    "\n",
    "x\n",
    "\n",
    "x\n",
    " \n",
    "x\n",
    "\n",
    "x\n",
    "\n",
    "x\n",
    " \n",
    "x\n",
    "\n",
    "x\n",
    "\n",
    "x\n",
    " \n",
    "x\n",
    "\n",
    "x\n",
    "\n",
    "x\n",
    " \n",
    "x\n",
    "\n",
    "x\n",
    "\n",
    "x\n",
    " \n",
    "x\n",
    "\n",
    "x\n",
    "\n"
   ]
  },
  {
   "cell_type": "code",
   "execution_count": null,
   "metadata": {},
   "outputs": [],
   "source": [
    "import random\n",
    "start = 0\n",
    "stop = 3000\n",
    "end = 10\n",
    "arr = [random.randint(start,stop) for p in range(0, end)]\n",
    "def even_odd(A):\n",
    "    odd = []\n",
    "    even = []   \n",
    "    for x in A:\n",
    "        if x % 2 == 0: \n",
    "           even.append(x)\n",
    "        else:\n",
    "            odd.append(x)\n",
    "    return even + odd"
   ]
  },
  {
   "cell_type": "code",
   "execution_count": null,
   "metadata": {},
   "outputs": [],
   "source": [
    "print(arr)\n",
    "print(even_odd(arr))"
   ]
  },
  {
   "cell_type": "code",
   "execution_count": null,
   "metadata": {},
   "outputs": [],
   "source": [
    "import random\n",
    "start = 0\n",
    "stop = 3000\n",
    "end = 10\n",
    "arr = [random.randint(start,stop) for p in range(0, end)]\n",
    "\n",
    "def even_odd(A):\n",
    "    odd = []\n",
    "    even = []   \n",
    "    for x in A:\n",
    "        if x % 2 == 0: \n",
    "           even.append(x)\n",
    "        else:\n",
    "            odd.append(x)\n",
    "    even.sort()\n",
    "    odd.sort()\n",
    "    return even + odd\n",
    "\n",
    "print(arr)\n",
    "print(even_odd(arr))"
   ]
  },
  {
   "attachments": {},
   "cell_type": "markdown",
   "metadata": {},
   "source": [
    "# stack Last-In-First-Out (LIFO)"
   ]
  },
  {
   "cell_type": "code",
   "execution_count": null,
   "metadata": {},
   "outputs": [],
   "source": [
    "stack = [1, 2, 3, 4, 5, 6, 7]\n",
    "stack.append(8)\n",
    "print(stack)"
   ]
  },
  {
   "cell_type": "code",
   "execution_count": null,
   "metadata": {},
   "outputs": [],
   "source": [
    "print(stack.pop())"
   ]
  },
  {
   "cell_type": "code",
   "execution_count": null,
   "metadata": {},
   "outputs": [],
   "source": [
    "print(stack)"
   ]
  },
  {
   "cell_type": "code",
   "execution_count": null,
   "metadata": {},
   "outputs": [],
   "source": [
    "print(stack.pop())\n",
    "print(stack.pop())"
   ]
  },
  {
   "cell_type": "code",
   "execution_count": null,
   "metadata": {},
   "outputs": [],
   "source": [
    "print(stack)"
   ]
  },
  {
   "cell_type": "markdown",
   "metadata": {},
   "source": [
    "# Queues - First-In-First-Out (FIFO)\n",
    "\n",
    "think like a real line in DMV"
   ]
  },
  {
   "cell_type": "markdown",
   "metadata": {},
   "source": [
    "in class lab 2¶\n",
    "\n",
    "x\n",
    "\n",
    "x\n",
    "\n",
    "x\n",
    "\n",
    "x\n",
    "\n",
    "x\n",
    "\n",
    "x\n",
    "\n",
    "x\n",
    "\n",
    "x\n",
    "\n",
    "x\n",
    "\n",
    "x\n",
    "\n",
    "x\n",
    "\n",
    "x\n",
    "\n",
    "x\n",
    "\n",
    "x\n",
    "\n",
    "x\n",
    "\n",
    "x\n",
    "\n",
    "x\n",
    "\n",
    "x\n",
    "\n",
    "x\n",
    "\n",
    "x\n",
    "\n",
    "x\n",
    "\n",
    "x\n",
    "\n",
    "x\n",
    "\n",
    "x\n"
   ]
  },
  {
   "cell_type": "code",
   "execution_count": null,
   "metadata": {},
   "outputs": [],
   "source": [
    "import queue\n",
    "\n",
    "assigment_queue = queue.Queue()\n",
    "\n",
    "assigment_queue.put(2)\n",
    "assigment_queue.put(3)\n",
    "assigment_queue.put(7)\n",
    "assigment_queue.put(11)\n",
    "assigment_queue.put(13)\n",
    "assigment_queue.put('Nice')"
   ]
  },
  {
   "cell_type": "code",
   "execution_count": null,
   "metadata": {},
   "outputs": [],
   "source": [
    "while not assigment_queue.empty():\n",
    "    print (assigment_queue.get())"
   ]
  },
  {
   "cell_type": "code",
   "execution_count": null,
   "metadata": {},
   "outputs": [],
   "source": []
  }
 ],
 "metadata": {
  "kernelspec": {
   "display_name": "Python 3",
   "language": "python",
   "name": "python3"
  },
  "language_info": {
   "codemirror_mode": {
    "name": "ipython",
    "version": 3
   },
   "file_extension": ".py",
   "mimetype": "text/x-python",
   "name": "python",
   "nbconvert_exporter": "python",
   "pygments_lexer": "ipython3",
   "version": "3.6.4"
  }
 },
 "nbformat": 4,
 "nbformat_minor": 2
}
