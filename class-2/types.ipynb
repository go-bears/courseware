{
 "cells": [
  {
   "cell_type": "markdown",
   "metadata": {},
   "source": [
    "# mutable vs immutable\n",
    "\n",
    "boolean: the type of the built-in values True and False. Useful in conditional expressions, and anywhere else you want to represent the truth or falsity of some condition. Mostly interchangeable with the integers 1 and 0. In fact, conditional expressions will accept values of any type, treating special ones like boolean False, integer 0 and the empty string \"\" as equivalent to False, and all other values as equivalent to True. But for safety’s sake, it is best to only use boolean values in these places.\n",
    "Numeric types:\n",
    "\n",
    "int: Integers; equivalent to C longs in Python 2.x, non-limited length in Python 3.x\n",
    "long: Long integers of non-limited length; exists only in Python 2.x\n",
    "float: Floating-Point numbers, equivalent to C doubles\n",
    "complex: Complex Numbers\n",
    "Sequences:\n",
    "\n",
    "str: String; represented as a sequence of 8-bit characters in Python 2.x, but as a sequence of Unicode characters (in the range of U+0000 - U+10FFFF) in Python 3.x\n",
    "bytes: a sequence of integers in the range of 0-255; only available in Python 3.x\n",
    "byte array: like bytes, but mutable (see below); only available in Python 3.x\n",
    "list\n",
    "tuple\n",
    "Sets:\n",
    "\n",
    "set: an unordered collection of unique objects; available as a standard type since Python 2.6\n",
    "frozen set: like set, but immutable (see below); available as a standard type since Python 2.6\n",
    "Mappings:\n",
    "\n",
    "dict: Python dictionaries, also called hashmaps or associative arrays, which means that an element of the list is associated with a definition, rather like a Map in Java\n",
    "\n",
    "\n",
    "## immutable\n",
    "    int, float, complex\n",
    "    str\n",
    "    bytes\n",
    "    tuple\n",
    "    frozenset\n",
    "    bool\n",
    "\n",
    "\n",
    "## mutable\n",
    "    array\n",
    "    bytearray\n",
    "    list\n",
    "    set\n",
    "    dict\n",
    "\n"
   ]
  },
  {
   "cell_type": "markdown",
   "metadata": {},
   "source": [
    "Only mutable objects support methods that change the object in place, such as reassignment of a sequence slice, which will work for lists, but raise an error for tuples and strings.\n",
    "\n",
    "It is important to understand that variables in Python are really just references to objects in memory. If you assign an object to a variable as below,"
   ]
  },
  {
   "cell_type": "code",
   "execution_count": null,
   "metadata": {},
   "outputs": [],
   "source": [
    "a = 1\n",
    "s = 'abc'\n",
    "l = ['a string', 456, ('a', 'tuple', 'inside', 'a', 'list')]"
   ]
  },
  {
   "cell_type": "code",
   "execution_count": null,
   "metadata": {},
   "outputs": [],
   "source": [
    "l[0]=1"
   ]
  },
  {
   "cell_type": "code",
   "execution_count": null,
   "metadata": {},
   "outputs": [],
   "source": [
    "s[0]='a'"
   ]
  },
  {
   "cell_type": "code",
   "execution_count": null,
   "metadata": {},
   "outputs": [],
   "source": [
    "print( s + '&' + s)"
   ]
  },
  {
   "cell_type": "code",
   "execution_count": null,
   "metadata": {},
   "outputs": [],
   "source": [
    "print((s + ' ') *80)"
   ]
  },
  {
   "cell_type": "code",
   "execution_count": null,
   "metadata": {},
   "outputs": [],
   "source": [
    "type(s)"
   ]
  },
  {
   "cell_type": "code",
   "execution_count": null,
   "metadata": {},
   "outputs": [],
   "source": [
    "dir(s)"
   ]
  },
  {
   "cell_type": "code",
   "execution_count": null,
   "metadata": {},
   "outputs": [],
   "source": [
    "'X'.join(s*10)"
   ]
  },
  {
   "cell_type": "code",
   "execution_count": null,
   "metadata": {},
   "outputs": [],
   "source": [
    "s.split('b')"
   ]
  }
 ],
 "metadata": {
  "kernelspec": {
   "display_name": "Python 3",
   "language": "python",
   "name": "python3"
  },
  "language_info": {
   "codemirror_mode": {
    "name": "ipython",
    "version": 3
   },
   "file_extension": ".py",
   "mimetype": "text/x-python",
   "name": "python",
   "nbconvert_exporter": "python",
   "pygments_lexer": "ipython3",
   "version": "3.6.4"
  }
 },
 "nbformat": 4,
 "nbformat_minor": 2
}
