{
 "cells": [
  {
   "cell_type": "markdown",
   "metadata": {},
   "source": [
    "The purpose of Bisect algorithm is to find a position in list where an element needs to be inserted to keep the list sorted."
   ]
  },
  {
   "cell_type": "code",
   "execution_count": null,
   "metadata": {},
   "outputs": [],
   "source": [
    "import bisect\n",
    "\n",
    "li = [1, 3, 4, 4, 4, 6, 7]\n",
    " \n",
    "li.insert(bisect.bisect(li, 4),4)\n",
    "print(li)\n",
    "\n",
    "li = [1, 3, 4, 4, 4, 6, 7]\n",
    " \n",
    "bisect.insort(li,4)\n",
    "print(li)"
   ]
  }
 ],
 "metadata": {
  "kernelspec": {
   "display_name": "Python 3",
   "language": "python",
   "name": "python3"
  },
  "language_info": {
   "codemirror_mode": {
    "name": "ipython",
    "version": 3
   },
   "file_extension": ".py",
   "mimetype": "text/x-python",
   "name": "python",
   "nbconvert_exporter": "python",
   "pygments_lexer": "ipython3",
   "version": "3.6.4"
  }
 },
 "nbformat": 4,
 "nbformat_minor": 2
}
