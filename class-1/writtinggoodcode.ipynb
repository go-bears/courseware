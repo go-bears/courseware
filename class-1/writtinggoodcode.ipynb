{
 "cells": [
  {
   "cell_type": "markdown",
   "metadata": {},
   "source": [
    "# Writting good python code\n",
    "\n",
    "There are many ways to write python but only one good!\n"
   ]
  },
  {
   "cell_type": "markdown",
   "metadata": {},
   "source": [
    "## Worst practice"
   ]
  },
  {
   "cell_type": "code",
   "execution_count": null,
   "metadata": {},
   "outputs": [],
   "source": [
    "object = MyObject()\n",
    "map = Map()\n",
    "zip = 94401\n",
    "id = 34\n",
    "\n",
    "def my_function(int, float, string, list):\n",
    "    a = int * 2\n",
    "    for _ in list:\n",
    "        float + = _*int\n",
    "        \n",
    "    return string, float"
   ]
  },
  {
   "cell_type": "markdown",
   "metadata": {},
   "source": [
    "# who is guilty of being lazy?\n",
    "Naming your variables"
   ]
  },
  {
   "cell_type": "code",
   "execution_count": null,
   "metadata": {},
   "outputs": [],
   "source": [
    "strColour = \"blue\"\n",
    "intYearsCoding = 31 \n",
    "dtFirstCode = \"02/12/1987\"\n",
    "nameProgrammingLang = 'basic'\n",
    "boolStillUsing = False\n",
    "\n",
    "clr = \"blue\"\n",
    "codingYrs = 31\n",
    "cdFrstT = \"02/12/1987\"\n",
    "progLang = 'basic'\n",
    "akt = False\n",
    "\n",
    "c = \"blue\"\n",
    "y = 31 \n",
    "d = \"02/12/1987\"\n",
    "l = 'basic'\n",
    "a = False"
   ]
  },
  {
   "cell_type": "markdown",
   "metadata": {},
   "source": [
    "You are adult so act like one"
   ]
  },
  {
   "cell_type": "code",
   "execution_count": null,
   "metadata": {},
   "outputs": [],
   "source": [
    "colour = \"blue\"\n",
    "programming_years = 31 \n",
    "first_code_writen = \"02/12/1987\"\n",
    "first_prgramming_language = 'basic'\n",
    "active = False"
   ]
  },
  {
   "cell_type": "markdown",
   "metadata": {},
   "source": [
    "# Don't use enumerate"
   ]
  },
  {
   "cell_type": "code",
   "execution_count": null,
   "metadata": {},
   "outputs": [],
   "source": [
    "bar = [1,2,3,4]\n",
    "for i, item in zip(range(len(bar)), bar):\n",
    "    print (i, item)"
   ]
  },
  {
   "cell_type": "markdown",
   "metadata": {},
   "source": [
    "# Use enumerate"
   ]
  },
  {
   "cell_type": "code",
   "execution_count": null,
   "metadata": {},
   "outputs": [],
   "source": [
    "bar = [1,2,3,4]\n",
    "for i, item in enumerate(bar):\n",
    "    print (i, item)"
   ]
  },
  {
   "cell_type": "markdown",
   "metadata": {},
   "source": [
    "# Memorize python build-ins and READ API of libraries you are using"
   ]
  },
  {
   "cell_type": "code",
   "execution_count": null,
   "metadata": {},
   "outputs": [],
   "source": [
    "def fetch(path,fromTime,untilTime=None,now=None):\n",
    "  fh = None\n",
    "  try:\n",
    "    fh = open(path,'rb')\n",
    "    return file_fetch(fh, fromTime, untilTime, now)\n",
    "  finally:\n",
    "    if fh:\n",
    "      fh.close()"
   ]
  },
  {
   "cell_type": "markdown",
   "metadata": {},
   "source": [
    "It can be rewritten better!"
   ]
  },
  {
   "cell_type": "code",
   "execution_count": null,
   "metadata": {},
   "outputs": [],
   "source": [
    "def fetch(path,fromTime,untilTime=None,now=None):\n",
    "  with open(path, 'rb') as fh:\n",
    "    return file_fetch(fh, fromTime, untilTime, now)"
   ]
  },
  {
   "cell_type": "markdown",
   "metadata": {},
   "source": [
    "# Why? it looks better and its idiomatic"
   ]
  },
  {
   "cell_type": "markdown",
   "metadata": {},
   "source": [
    "## good loops"
   ]
  },
  {
   "cell_type": "code",
   "execution_count": null,
   "metadata": {},
   "outputs": [],
   "source": [
    "for i,archive in enumerate(archiveList):\n",
    "  if i == len(archiveList) - 1:\n",
    "    break"
   ]
  },
  {
   "cell_type": "markdown",
   "metadata": {},
   "source": [
    "this could be simply"
   ]
  },
  {
   "cell_type": "code",
   "execution_count": null,
   "metadata": {},
   "outputs": [],
   "source": [
    "for archive in itertools.islice(archiveList, len(archiveList) - 1):\n",
    "    pass"
   ]
  },
  {
   "cell_type": "markdown",
   "metadata": {},
   "source": [
    "# Confusing everyone \n",
    "Python is a languge with its style, don't mix it up"
   ]
  },
  {
   "cell_type": "code",
   "execution_count": null,
   "metadata": {},
   "outputs": [],
   "source": [
    "class GiveMeSomeCoffe:\n",
    "    def __init__(self):\n",
    "        self._name = \"\"\n",
    "        \n",
    "    def set_name(self, name):\n",
    "        if isinstance(name, str):\n",
    "            self._name = name\n",
    "    \n",
    "    def get_name(self):\n",
    "        return self._name\n",
    "\n",
    "j = GiveMeSomeCoffe()\n",
    "j.set_name(\"need more java\")\n",
    "print(j.get_name())\n",
    "            "
   ]
  },
  {
   "cell_type": "markdown",
   "metadata": {},
   "source": [
    "# Use python properties"
   ]
  },
  {
   "cell_type": "code",
   "execution_count": null,
   "metadata": {},
   "outputs": [],
   "source": [
    "class PythonStyle(object):\n",
    "    def __init__(self, name = \"\"):\n",
    "        self._name = name\n",
    "        \n",
    "    @property\n",
    "    def name(self):\n",
    "        return self._name\n",
    "    \n",
    "    @name.setter\n",
    "    def name(self, value):\n",
    "        if isinstance(value, str):\n",
    "            self._name = value\n",
    "        else:\n",
    "            #raise ValueError(\"Name can only be string\")\n",
    "            print(\"Name can only be string\")\n",
    "    \n",
    "\n",
    "\n",
    "j = PythonStyle()\n",
    "j.name=\"no java needed\"\n",
    "print(j.name)"
   ]
  },
  {
   "cell_type": "code",
   "execution_count": null,
   "metadata": {},
   "outputs": [],
   "source": [
    "j.name=3\n",
    "print(j.name)\n"
   ]
  },
  {
   "cell_type": "markdown",
   "metadata": {},
   "source": [
    "# Using properties as action methods 😱"
   ]
  },
  {
   "cell_type": "code",
   "execution_count": null,
   "metadata": {},
   "outputs": [],
   "source": [
    "class MyProxy:\n",
    "    \n",
    "    @property\n",
    "    def connect(self):\n",
    "        self.proxy = xmlrpc.Service(\"getdata.com\")\n",
    "        \n",
    "    "
   ]
  },
  {
   "cell_type": "markdown",
   "metadata": {},
   "source": [
    "# check the list on git"
   ]
  }
 ],
 "metadata": {
  "kernelspec": {
   "display_name": "Python 3",
   "language": "python",
   "name": "python3"
  },
  "language_info": {
   "codemirror_mode": {
    "name": "ipython",
    "version": 3
   },
   "file_extension": ".py",
   "mimetype": "text/x-python",
   "name": "python",
   "nbconvert_exporter": "python",
   "pygments_lexer": "ipython3",
   "version": "3.6.4"
  }
 },
 "nbformat": 4,
 "nbformat_minor": 2
}
