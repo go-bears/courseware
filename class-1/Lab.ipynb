{
 "cells": [
  {
   "cell_type": "markdown",
   "metadata": {},
   "source": [
    "# Define 2, 3D points\n",
    "\n",
    "Define a class called `Point` that has a constructor taking x, y coordinates and make them fields of the class.\n",
    "\n",
    "Define method `distance(q)` that takes a `Point` and returns the L2 (root of difference squared) distance from `self` to `q`.\n",
    "\n",
    "Test with\n",
    "\n",
    "```\n",
    "p = Point(3,4)\n",
    "q = Point(5,6)\n",
    "print(p.distance(q))\n",
    "```\n",
    "\n",
    "Add method `__str__` so that `print(q)` prints something nice like `(3,4)`.\n",
    "\n",
    "```\n",
    "def dist(x,y):   \n",
    "    return numpy.sqrt(numpy.sum((x-y)**2))\n",
    "```    \n",
    "    \n",
    "\n",
    "## Scary inheritance stuff (advanced)\n",
    "\n",
    "Define a `Point3D` that inherits from `Point`. \n",
    "\n",
    "Define constructor that takes x,y,z values and sets fields. Call `super().__init__(x,y)` to call constructor of superclass.\n",
    "\n",
    "Define / override `distance(q)` so it works with 3D field values to return distance.\n",
    "\n",
    "Test with\n",
    "\n",
    "```\n",
    "p = Point3D(3,4,9)\n",
    "q = Point3D(5,6,10)\n",
    "print(p.distance(q))\n",
    "```\n",
    "\n",
    "Add method `__str__` so that `print(q)` prints something nice like `(3,4,5)`.\n",
    "\n",
    "```\n",
    "dist = sqrt((xa-xb)^2 + (ya-yb)^2 + (za-zb)^2)\n",
    "```"
   ]
  },
  {
   "cell_type": "code",
   "execution_count": null,
   "metadata": {},
   "outputs": [],
   "source": []
  }
 ],
 "metadata": {
  "kernelspec": {
   "display_name": "Python 3",
   "language": "python",
   "name": "python3"
  },
  "language_info": {
   "codemirror_mode": {
    "name": "ipython",
    "version": 3
   },
   "file_extension": ".py",
   "mimetype": "text/x-python",
   "name": "python",
   "nbconvert_exporter": "python",
   "pygments_lexer": "ipython3",
   "version": "3.6.4"
  }
 },
 "nbformat": 4,
 "nbformat_minor": 2
}
